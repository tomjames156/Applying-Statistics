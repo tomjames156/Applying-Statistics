{
 "cells": [
  {
   "cell_type": "code",
   "execution_count": 1,
   "id": "081a6984-5f3b-4ccc-b42c-b1db1bb1e220",
   "metadata": {},
   "outputs": [
    {
     "data": {
      "text/html": [
       "<div>\n",
       "<style scoped>\n",
       "    .dataframe tbody tr th:only-of-type {\n",
       "        vertical-align: middle;\n",
       "    }\n",
       "\n",
       "    .dataframe tbody tr th {\n",
       "        vertical-align: top;\n",
       "    }\n",
       "\n",
       "    .dataframe thead th {\n",
       "        text-align: right;\n",
       "    }\n",
       "</style>\n",
       "<table border=\"1\" class=\"dataframe\">\n",
       "  <thead>\n",
       "    <tr style=\"text-align: right;\">\n",
       "      <th></th>\n",
       "      <th>length (x.1mm)</th>\n",
       "    </tr>\n",
       "  </thead>\n",
       "  <tbody>\n",
       "    <tr>\n",
       "      <th>0</th>\n",
       "      <td>36</td>\n",
       "    </tr>\n",
       "    <tr>\n",
       "      <th>1</th>\n",
       "      <td>37</td>\n",
       "    </tr>\n",
       "    <tr>\n",
       "      <th>2</th>\n",
       "      <td>38</td>\n",
       "    </tr>\n",
       "    <tr>\n",
       "      <th>3</th>\n",
       "      <td>38</td>\n",
       "    </tr>\n",
       "    <tr>\n",
       "      <th>4</th>\n",
       "      <td>39</td>\n",
       "    </tr>\n",
       "    <tr>\n",
       "      <th>...</th>\n",
       "      <td>...</td>\n",
       "    </tr>\n",
       "    <tr>\n",
       "      <th>95</th>\n",
       "      <td>52</td>\n",
       "    </tr>\n",
       "    <tr>\n",
       "      <th>96</th>\n",
       "      <td>53</td>\n",
       "    </tr>\n",
       "    <tr>\n",
       "      <th>97</th>\n",
       "      <td>53</td>\n",
       "    </tr>\n",
       "    <tr>\n",
       "      <th>98</th>\n",
       "      <td>54</td>\n",
       "    </tr>\n",
       "    <tr>\n",
       "      <th>99</th>\n",
       "      <td>55</td>\n",
       "    </tr>\n",
       "  </tbody>\n",
       "</table>\n",
       "<p>100 rows × 1 columns</p>\n",
       "</div>"
      ],
      "text/plain": [
       "    length (x.1mm)\n",
       "0               36\n",
       "1               37\n",
       "2               38\n",
       "3               38\n",
       "4               39\n",
       "..             ...\n",
       "95              52\n",
       "96              53\n",
       "97              53\n",
       "98              54\n",
       "99              55\n",
       "\n",
       "[100 rows x 1 columns]"
      ]
     },
     "execution_count": 1,
     "metadata": {},
     "output_type": "execute_result"
    }
   ],
   "source": [
    "import pandas as pd\n",
    "\n",
    "df_wings = pd.read_excel('wing_length.xlsx', skiprows=3)\n",
    "df_wings_length = df_wings[[\"length (x.1mm)\"]]\n",
    "df_wings_length"
   ]
  },
  {
   "cell_type": "code",
   "execution_count": 2,
   "id": "30d9e83a-1e65-4832-b765-92c631937456",
   "metadata": {},
   "outputs": [
    {
     "data": {
      "text/html": [
       "<div>\n",
       "<style scoped>\n",
       "    .dataframe tbody tr th:only-of-type {\n",
       "        vertical-align: middle;\n",
       "    }\n",
       "\n",
       "    .dataframe tbody tr th {\n",
       "        vertical-align: top;\n",
       "    }\n",
       "\n",
       "    .dataframe thead th {\n",
       "        text-align: right;\n",
       "    }\n",
       "</style>\n",
       "<table border=\"1\" class=\"dataframe\">\n",
       "  <thead>\n",
       "    <tr style=\"text-align: right;\">\n",
       "      <th></th>\n",
       "      <th>Bin</th>\n",
       "      <th>Frequency</th>\n",
       "    </tr>\n",
       "  </thead>\n",
       "  <tbody>\n",
       "    <tr>\n",
       "      <th>0</th>\n",
       "      <td>36-38</td>\n",
       "      <td>2.0</td>\n",
       "    </tr>\n",
       "    <tr>\n",
       "      <th>1</th>\n",
       "      <td>38-40</td>\n",
       "      <td>4.0</td>\n",
       "    </tr>\n",
       "    <tr>\n",
       "      <th>2</th>\n",
       "      <td>40-42</td>\n",
       "      <td>10.0</td>\n",
       "    </tr>\n",
       "    <tr>\n",
       "      <th>3</th>\n",
       "      <td>42-44</td>\n",
       "      <td>15.0</td>\n",
       "    </tr>\n",
       "    <tr>\n",
       "      <th>4</th>\n",
       "      <td>44-46</td>\n",
       "      <td>19.0</td>\n",
       "    </tr>\n",
       "    <tr>\n",
       "      <th>...</th>\n",
       "      <td>...</td>\n",
       "      <td>...</td>\n",
       "    </tr>\n",
       "    <tr>\n",
       "      <th>95</th>\n",
       "      <td>NaN</td>\n",
       "      <td>NaN</td>\n",
       "    </tr>\n",
       "    <tr>\n",
       "      <th>96</th>\n",
       "      <td>NaN</td>\n",
       "      <td>NaN</td>\n",
       "    </tr>\n",
       "    <tr>\n",
       "      <th>97</th>\n",
       "      <td>NaN</td>\n",
       "      <td>NaN</td>\n",
       "    </tr>\n",
       "    <tr>\n",
       "      <th>98</th>\n",
       "      <td>NaN</td>\n",
       "      <td>NaN</td>\n",
       "    </tr>\n",
       "    <tr>\n",
       "      <th>99</th>\n",
       "      <td>NaN</td>\n",
       "      <td>NaN</td>\n",
       "    </tr>\n",
       "  </tbody>\n",
       "</table>\n",
       "<p>100 rows × 2 columns</p>\n",
       "</div>"
      ],
      "text/plain": [
       "      Bin  Frequency\n",
       "0   36-38        2.0\n",
       "1   38-40        4.0\n",
       "2   40-42       10.0\n",
       "3   42-44       15.0\n",
       "4   44-46       19.0\n",
       "..    ...        ...\n",
       "95    NaN        NaN\n",
       "96    NaN        NaN\n",
       "97    NaN        NaN\n",
       "98    NaN        NaN\n",
       "99    NaN        NaN\n",
       "\n",
       "[100 rows x 2 columns]"
      ]
     },
     "execution_count": 2,
     "metadata": {},
     "output_type": "execute_result"
    }
   ],
   "source": [
    "df_wings_frequencies = df_wings[[\"Bin\", \"Frequency\"]]\n",
    "df_wings_frequencies"
   ]
  },
  {
   "cell_type": "code",
   "execution_count": 3,
   "id": "7583adce-f5e7-4ee4-a131-4b178aaa7c70",
   "metadata": {},
   "outputs": [],
   "source": [
    "import numpy as np\n",
    "\n",
    "df_wings_frequencies = df_wings_frequencies.dropna()"
   ]
  },
  {
   "cell_type": "code",
   "execution_count": 4,
   "id": "610cedd1-ef0a-4211-b285-2c6c2313c13a",
   "metadata": {},
   "outputs": [
    {
     "data": {
      "text/html": [
       "<div>\n",
       "<style scoped>\n",
       "    .dataframe tbody tr th:only-of-type {\n",
       "        vertical-align: middle;\n",
       "    }\n",
       "\n",
       "    .dataframe tbody tr th {\n",
       "        vertical-align: top;\n",
       "    }\n",
       "\n",
       "    .dataframe thead th {\n",
       "        text-align: right;\n",
       "    }\n",
       "</style>\n",
       "<table border=\"1\" class=\"dataframe\">\n",
       "  <thead>\n",
       "    <tr style=\"text-align: right;\">\n",
       "      <th></th>\n",
       "      <th>Bin</th>\n",
       "      <th>Frequency</th>\n",
       "    </tr>\n",
       "  </thead>\n",
       "  <tbody>\n",
       "    <tr>\n",
       "      <th>0</th>\n",
       "      <td>36-38</td>\n",
       "      <td>2.0</td>\n",
       "    </tr>\n",
       "    <tr>\n",
       "      <th>1</th>\n",
       "      <td>38-40</td>\n",
       "      <td>4.0</td>\n",
       "    </tr>\n",
       "    <tr>\n",
       "      <th>2</th>\n",
       "      <td>40-42</td>\n",
       "      <td>10.0</td>\n",
       "    </tr>\n",
       "    <tr>\n",
       "      <th>3</th>\n",
       "      <td>42-44</td>\n",
       "      <td>15.0</td>\n",
       "    </tr>\n",
       "    <tr>\n",
       "      <th>4</th>\n",
       "      <td>44-46</td>\n",
       "      <td>19.0</td>\n",
       "    </tr>\n",
       "    <tr>\n",
       "      <th>5</th>\n",
       "      <td>46-48</td>\n",
       "      <td>19.0</td>\n",
       "    </tr>\n",
       "    <tr>\n",
       "      <th>6</th>\n",
       "      <td>48-50</td>\n",
       "      <td>15.0</td>\n",
       "    </tr>\n",
       "    <tr>\n",
       "      <th>7</th>\n",
       "      <td>50-52</td>\n",
       "      <td>10.0</td>\n",
       "    </tr>\n",
       "    <tr>\n",
       "      <th>8</th>\n",
       "      <td>52-54</td>\n",
       "      <td>4.0</td>\n",
       "    </tr>\n",
       "    <tr>\n",
       "      <th>9</th>\n",
       "      <td>54-56</td>\n",
       "      <td>2.0</td>\n",
       "    </tr>\n",
       "  </tbody>\n",
       "</table>\n",
       "</div>"
      ],
      "text/plain": [
       "     Bin  Frequency\n",
       "0  36-38        2.0\n",
       "1  38-40        4.0\n",
       "2  40-42       10.0\n",
       "3  42-44       15.0\n",
       "4  44-46       19.0\n",
       "5  46-48       19.0\n",
       "6  48-50       15.0\n",
       "7  50-52       10.0\n",
       "8  52-54        4.0\n",
       "9  54-56        2.0"
      ]
     },
     "execution_count": 4,
     "metadata": {},
     "output_type": "execute_result"
    }
   ],
   "source": [
    "df_wings_frequencies"
   ]
  },
  {
   "cell_type": "code",
   "execution_count": 5,
   "id": "dced3c57-8c9f-4d9f-9a12-77067668806c",
   "metadata": {},
   "outputs": [],
   "source": [
    "import seaborn as sns\n",
    "from matplotlib import pyplot as plt"
   ]
  },
  {
   "cell_type": "code",
   "execution_count": 6,
   "id": "e098c998-01ac-4aea-82f4-595b3ce3c1f5",
   "metadata": {},
   "outputs": [
    {
     "data": {
      "image/png": "[encoded data removed]",
      "text/plain": [
       "<Figure size 640x480 with 1 Axes>"
      ]
     },
     "metadata": {},
     "output_type": "display_data"
    }
   ],
   "source": [
    "sns.kdeplot(data=df_wings_length, x=\"length (x.1mm)\")\n",
    "plt.title(\"Normally Distributed Housefly Wing Lengths\")\n",
    "plt.xlabel(\"Wings Length (mm)\")\n",
    "plt.show()"
   ]
  },
  {
   "cell_type": "code",
   "execution_count": 9,
   "id": "bec506a0-9fc4-4ef5-b58e-007be7d1fa7f",
   "metadata": {},
   "outputs": [
    {
     "data": {
      "text/plain": [
       "count    100.000000\n",
       "mean      45.500000\n",
       "std        3.919647\n",
       "min       36.000000\n",
       "25%       43.000000\n",
       "50%       45.500000\n",
       "75%       48.000000\n",
       "max       55.000000\n",
       "Name: length (x.1mm), dtype: float64"
      ]
     },
     "execution_count": 9,
     "metadata": {},
     "output_type": "execute_result"
    }
   ],
   "source": [
    "df_wings['length (x.1mm)'].describe()"
   ]
  },
  {
   "cell_type": "code",
   "execution_count": 12,
   "id": "c801a54a-e1bc-41f9-8fed-b90e0394d886",
   "metadata": {},
   "outputs": [],
   "source": [
    "# A function that stores the standard deviaton and mean of the wings length\n",
    "\n",
    "stdev = df_wings_length.std()\n",
    "mean = df_wings_length.mean()"
   ]
  },
  {
   "cell_type": "code",
   "execution_count": 21,
   "id": "7d49af1d-8728-4bba-b31a-6048fa207f77",
   "metadata": {},
   "outputs": [],
   "source": [
    "def get_deviations(n=1):\n",
    "    \"\"\"Returns the deviation n places above or below the mean\"\"\"\n",
    "\n",
    "    below = mean - (n * stdev)\n",
    "    above = mean + (n * stdev)\n",
    "\n",
    "    return round(below.item(), 1), round(above.item(), 1)"
   ]
  },
  {
   "cell_type": "code",
   "execution_count": 33,
   "id": "3d754f46-05db-40aa-9072-f88234672b21",
   "metadata": {},
   "outputs": [
    {
     "data": {
      "text/plain": [
       "(33.7, 57.3)"
      ]
     },
     "execution_count": 33,
     "metadata": {},
     "output_type": "execute_result"
    }
   ],
   "source": [
    "one_dev = get_deviations()\n",
    "two_devs = get_deviations(2)\n",
    "three_devs = get_deviations(3)\n",
    "\n",
    "three_devs"
   ]
  },
  {
   "cell_type": "code",
   "execution_count": 32,
   "id": "6c614565-8986-46de-8733-4f1d0dc7faed",
   "metadata": {},
   "outputs": [
    {
     "data": {
      "text/plain": [
       "length (x.1mm)    68\n",
       "dtype: int64"
      ]
     },
     "execution_count": 32,
     "metadata": {},
     "output_type": "execute_result"
    }
   ],
   "source": [
    "cdf_three_devs_above = df_wings_length[df_wings_length['length (x.1mm)'] <= one_dev[1]].count()\n",
    "cdf_three_devs_below = df_wings_length[df_wings_length['length (x.1mm)'] <= one_dev[0]].count()\n",
    "\n",
    "cdf_three_devs_above - cdf_three_devs_below"
   ]
  },
  {
   "cell_type": "code",
   "execution_count": null,
   "id": "f6ea028a-a24e-4024-9fe6-1f82c0913e42",
   "metadata": {},
   "outputs": [],
   "source": []
  }
 ],
 "metadata": {
  "kernelspec": {
   "display_name": "Python 3 (ipykernel)",
   "language": "python",
   "name": "python3"
  },
  "language_info": {
   "codemirror_mode": {
    "name": "ipython",
    "version": 3
   },
   "file_extension": ".py",
   "mimetype": "text/x-python",
   "name": "python",
   "nbconvert_exporter": "python",
   "pygments_lexer": "ipython3",
   "version": "3.12.4"
  }
 },
 "nbformat": 4,
 "nbformat_minor": 5
}
